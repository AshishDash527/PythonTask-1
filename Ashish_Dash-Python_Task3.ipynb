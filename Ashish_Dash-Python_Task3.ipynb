{
 "cells": [
  {
   "cell_type": "markdown",
   "id": "2926efff-20f0-4f10-98b1-b62a1fb28aa0",
   "metadata": {},
   "source": [
    "# Scenario 1: Online Shopping Cart\r\n",
    "Input:\r\n",
    "• The user enters the product name (string).\r\n",
    "• The user enters the quantity (integer).\r\n",
    "\r\n",
    "Output:\r\n",
    "• The program displays the product name, quantity, and calculated total price (formatted with two decimal plces).\r\n"
   ]
  },
  {
   "cell_type": "code",
   "execution_count": 39,
   "id": "04932c52-3502-4d71-955f-a44b87109dd1",
   "metadata": {},
   "outputs": [
    {
     "name": "stdin",
     "output_type": "stream",
     "text": [
      "Enter the product name:  product2\n",
      "Enter the quantity:  2\n"
     ]
    },
    {
     "name": "stdout",
     "output_type": "stream",
     "text": [
      "Product: product2\n",
      "Quantity: 2\n",
      "Total Price: 41.50\n"
     ]
    }
   ],
   "source": [
    "def calculate_total_price(product_name, quantity):\n",
    "    product_prices = {\n",
    "        \"product1\": 10.50,\n",
    "        \"product2\": 20.75,\n",
    "        \"product3\": 15.00\n",
    "    }\n",
    "    if product_name in product_prices:\n",
    "        total_price = product_prices[product_name] * quantity\n",
    "        print(\"Product:\", product_name)\n",
    "        print(\"Quantity:\", quantity)\n",
    "        print(\"Total Price: {:.2f}\".format(total_price))  # Format total price with two decimal places\n",
    "    else:\n",
    "        print(\"Product not found in the database.\")\n",
    "\n",
    "product_name = input(\"Enter the product name: \")\n",
    "quantity = int(input(\"Enter the quantity: \"))\n",
    "\n",
    "calculate_total_price(product_name, quantity)\n",
    "      "
   ]
  },
  {
   "cell_type": "markdown",
   "id": "f2e005d4-eff6-47c8-abe9-077ffeafd92d",
   "metadata": {},
   "source": [
    "# Scenario 2: Restaurant Tip Calculator\r\n",
    "Input:\r\n",
    "• The user enters the bill amount (float).\r\n",
    "• The user selects a tip percentage (integer) from a menu (e.g., 15%, 18%, 20%).\r\n",
    "\r\n",
    "Output:\r\n",
    "• The program displays the bill amount, tip amount (formatted with two decimal places), and total bill with tip (formatted with two decimal plces).\r\n"
   ]
  },
  {
   "cell_type": "code",
   "execution_count": null,
   "id": "983ca82c-2a31-4583-8414-78be92444e24",
   "metadata": {},
   "outputs": [],
   "source": [
    "def calculate_tip(bill_amount, tip_percentage):\n",
    "    tip_amount = bill_amount * (tip_percentage / 100)\n",
    "    total_bill = bill_amount + tip_amount\n",
    "    print(\"Bill Amount: {:.2f}\".format(bill_amount))\n",
    "    print(\"Tip Amount ({}%): {:.2f}\".format(tip_percentage, tip_amount))\n",
    "    print(\"Total Bill with Tip: {:.2f}\".format(total_bill))\n",
    "\n",
    "bill_amount = float(input(\"Enter the bill amount: \"))\n",
    "print(\"Select tip percentage:\")\n",
    "print(\"1. 15%\")\n",
    "print(\"2. 18%\")\n",
    "print(\"3. 20%\")\n",
    "choice = int(input(\"Enter your choice (1, 2, or 3): \"))\n",
    "\n",
    "if choice == 1:\n",
    "    tip_percentage = 15\n",
    "elif choice == 2:\n",
    "    tip_percentage = 18\n",
    "elif choice == 3:\n",
    "    tip_percentage = 20\n",
    "else:\n",
    "    print(\"Invalid choice. Defaulting to 15%.\")\n",
    "    tip_percentage = 15\n",
    "\n",
    "calculate_tip(bill_amount, tip_percentage)"
   ]
  },
  {
   "cell_type": "markdown",
   "id": "df76382c-e448-44ff-968d-1dd50d43be9c",
   "metadata": {},
   "source": [
    "# Scenario 3: Event Registration\r\n",
    "Input:\r\n",
    "• The user enters their first name (string).\r\n",
    "• The user enters their last name (string).\r\n",
    "• The user enters the number of tickets they want to purchase (integer).\r\n",
    "\r\n",
    "Output:\r\n",
    "• The program displays a confirmation message with the user's full name, number of tickets, and total price (formatted based on a ticket price, for example $25).\r\n"
   ]
  },
  {
   "cell_type": "code",
   "execution_count": null,
   "id": "f549296f-f2ef-4510-b83f-eef1c4ce94db",
   "metadata": {},
   "outputs": [],
   "source": [
    "def calculate_total_price(ticket_price, num_tickets):\n",
    "    total_price = ticket_price * num_tickets\n",
    "    return total_price\n",
    "\n",
    "first_name = input(\"Enter your first name: \")\n",
    "last_name = input(\"Enter your last name: \")\n",
    "num_tickets = int(input(\"Enter the number of tickets you want to purchase: \"))\n",
    "\n",
    "ticket_price = 25\n",
    "\n",
    "total_price = calculate_total_price(ticket_price, num_tickets)\n",
    "\n",
    "print(\"Thank you, {} {}, for your purchase!\".format(first_name, last_name))\n",
    "print(\"You have purchased {} ticket(s) at ${:.2f} each.\".format(num_tickets, ticket_price))\n",
    "print(\"Total Price: ${:.2f}\".format(total_price)) "
   ]
  },
  {
   "cell_type": "markdown",
   "id": "9d0e24c2-599f-497a-b6ba-b185208cb745",
   "metadata": {},
   "source": [
    "# Dictionary\r\n",
    "\r\n",
    "Scenario 1: Inventory Management\r\n",
    "Input:\r\n",
    "A dictionary containing product information, where keys are product IDs (strings) and values are dictionaries with details like name (string), price (float), and quantity (integer# ).\r\n",
    "\r",
    "Task:\r\n",
    "1.\tDisplay all products with their details (name, price, quatity).\r\n"
   ]
  },
  {
   "cell_type": "code",
   "execution_count": 11,
   "id": "8e4ee4c8-2e07-4dad-930b-e9b64af52f4d",
   "metadata": {},
   "outputs": [
    {
     "name": "stdout",
     "output_type": "stream",
     "text": [
      "Product Details:\n",
      "ID\tName\t\tPrice\tQuantity\n",
      "001\tProduct A\t$10.50\t100\n",
      "002\tProduct B\t$20.75\t50\n",
      "003\tProduct C\t$15.00\t75\n"
     ]
    }
   ],
   "source": [
    "def display_product_details(products):\n",
    "    print(\"Product Details:\")\n",
    "    print(\"ID\\tName\\t\\tPrice\\tQuantity\")\n",
    "    for product_id, product_info in products.items():\n",
    "        name = product_info['name']\n",
    "        price = product_info['price']\n",
    "        quantity = product_info['quantity']\n",
    "        print(\"{}\\t{}\\t${:.2f}\\t{}\".format(product_id, name, price, quantity))\n",
    "\n",
    "products = {\n",
    "    '001': {'name': 'Product A', 'price': 10.50, 'quantity': 100},\n",
    "    '002': {'name': 'Product B', 'price': 20.75, 'quantity': 50},\n",
    "    '003': {'name': 'Product C', 'price': 15.00, 'quantity': 75}\n",
    "    # Add more products as needed\n",
    "}\n",
    "\n",
    "display_product_details(products)"
   ]
  },
  {
   "cell_type": "markdown",
   "id": "069546cc-c261-4cbc-ae1a-db481d3dc10d",
   "metadata": {},
   "source": [
    "# Task:2.\tAllow the user to update the quantity of an existing product."
   ]
  },
  {
   "cell_type": "code",
   "execution_count": 10,
   "id": "055065fb-e6ba-4c30-8705-752afd899564",
   "metadata": {},
   "outputs": [
    {
     "name": "stdout",
     "output_type": "stream",
     "text": [
      "Product Details:\n",
      "ID\tName\t\tPrice\tQuantity\n",
      "001\tProduct A\t$10.50\t100\n",
      "002\tProduct B\t$20.75\t50\n",
      "003\tProduct C\t$15.00\t75\n"
     ]
    },
    {
     "name": "stdin",
     "output_type": "stream",
     "text": [
      "Enter the product ID to update quantity:  003\n",
      "Enter the new quantity:  500\n"
     ]
    },
    {
     "name": "stdout",
     "output_type": "stream",
     "text": [
      "Quantity of product 'Product C' updated to 500.\n",
      "Product Details:\n",
      "ID\tName\t\tPrice\tQuantity\n",
      "001\tProduct A\t$10.50\t100\n",
      "002\tProduct B\t$20.75\t50\n",
      "003\tProduct C\t$15.00\t500\n"
     ]
    }
   ],
   "source": [
    "def display_product_details(products):\n",
    "    print(\"Product Details:\")\n",
    "    print(\"ID\\tName\\t\\tPrice\\tQuantity\")\n",
    "    for product_id, product_info in products.items():\n",
    "        name = product_info['name']\n",
    "        price = product_info['price']\n",
    "        quantity = product_info['quantity']\n",
    "        print(\"{}\\t{}\\t${:.2f}\\t{}\".format(product_id, name, price, quantity))\n",
    "\n",
    "def update_product_quantity(products, product_id, new_quantity):\n",
    "    if product_id in products:\n",
    "        products[product_id]['quantity'] = new_quantity\n",
    "        print(\"Quantity of product '{}' updated to {}.\".format(products[product_id]['name'], new_quantity))\n",
    "    else:\n",
    "        print(\"Product ID '{}' not found.\".format(product_id))\n",
    "\n",
    "products = {\n",
    "    '001': {'name': 'Product A', 'price': 10.50, 'quantity': 100},\n",
    "    '002': {'name': 'Product B', 'price': 20.75, 'quantity': 50},\n",
    "    '003': {'name': 'Product C', 'price': 15.00, 'quantity': 75}\n",
    "}\n",
    "\n",
    "display_product_details(products)\n",
    "\n",
    "product_id = input(\"Enter the product ID to update quantity: \")\n",
    "new_quantity = int(input(\"Enter the new quantity: \"))\n",
    "\n",
    "update_product_quantity(products, product_id, new_quantity)\n",
    "\n",
    "display_product_details(products)"
   ]
  },
  {
   "cell_type": "markdown",
   "id": "327ab1bc-2c4d-421c-aa65-32a5d178a73a",
   "metadata": {},
   "source": [
    "# Scenario 2: Analysing Book Inventory\r\n",
    "Input:\r\n",
    "Python\r\n",
    "book_inventory = {\r\n",
    " \"Moby Dick\": {\r\n",
    " \"author\": \"Herman Melville\",\r\n",
    " \"genre\": \"Adventure\",\r\n",
    " \"in_stock\": 10\r\n",
    " },\r\n",
    " \"Pride and Prejudice\": {\r\n",
    " \"author\": \"Jane Austen\",\r\n",
    " \"genre\": \"Romance\",\r\n",
    " \"in_stock\": 5\r\n",
    " },\r\n",
    " \"The Lord of the Rings\": {\r\n",
    " \"author\": \"J.R.R. Tolkien\",\r\n",
    " \"fantasy\": \"Epic Fantasy\",\r\n",
    " \"in_stock\": 8 # Typo, missingg# Task:3.re\"\r\n",
    " }\r\n",
    "}\r\n",
    "Task:\r\n",
    "1.\tFind the total numb in stock.\r\n",
    "\n",
    "# Task:3."
   ]
  },
  {
   "cell_type": "code",
   "execution_count": 13,
   "id": "24716c87-4665-4f4e-bdda-f9651f480c64",
   "metadata": {},
   "outputs": [
    {
     "name": "stdout",
     "output_type": "stream",
     "text": [
      "Total number of books in stock: 23\n"
     ]
    }
   ],
   "source": [
    "book_inventory = {\n",
    " \"Moby Dick\": {\n",
    " \"author\": \"Herman Melville\",\n",
    " \"genre\": \"Adventure\",\n",
    " \"in_stock\": 10\n",
    " },\n",
    " \"Pride and Prejudice\": {\n",
    " \"author\": \"Jane Austen\",\n",
    " \"genre\": \"Romance\",\n",
    " \"in_stock\": 5\n",
    " },\n",
    " \"The Lord of the Rings\": {\n",
    " \"author\": \"J.R.R. Tolkien\",\n",
    " \"fantasy\": \"Epic Fantasy\",\n",
    " \"in_stock\": 8 # Typo, missing key \"genre\"\n",
    " }\n",
    "}\n",
    "total_books_in_stock = sum(book[\"in_stock\"] for book in book_inventory.values())\n",
    "print(\"Total number of books in stock:\", total_books_in_stock)"
   ]
  },
  {
   "cell_type": "markdown",
   "id": "3d558622-6a45-4719-a851-0b5d83120977",
   "metadata": {},
   "source": [
    "# Task:3. Check if a specific book (\"The Lord of the Rings\") is in stock and how many copies are available."
   ]
  },
  {
   "cell_type": "code",
   "execution_count": 15,
   "id": "78fe143b-503e-4a7a-8b51-28ea6953acf3",
   "metadata": {},
   "outputs": [
    {
     "name": "stdout",
     "output_type": "stream",
     "text": [
      "The Lord of the Rings is in stock with 8 copies available.\n"
     ]
    }
   ],
   "source": [
    "book_inventory = {\n",
    " \"Moby Dick\": {\n",
    " \"author\": \"Herman Melville\",\n",
    " \"genre\": \"Adventure\",\n",
    " \"in_stock\": 10\n",
    " },\n",
    " \"Pride and Prejudice\": {\n",
    " \"author\": \"Jane Austen\",\n",
    " \"genre\": \"Romance\",\n",
    " \"in_stock\": 5\n",
    " },\n",
    " \"The Lord of the Rings\": {\n",
    " \"author\": \"J.R.R. Tolkien\",\n",
    " \"fantasy\": \"Epic Fantasy\",\n",
    " \"in_stock\": 8 # Typo, missing key \"genre\"\n",
    " }\n",
    "}\n",
    "book_title = \"The Lord of the Rings\"\n",
    "if book_title in book_inventory:\n",
    "    copies_available = book_inventory[book_title].get(\"in_stock\", 0)\n",
    "    print(\"{} is in stock with {} copies available.\".format(book_title, copies_available))\n",
    "else:\n",
    "    print(\"{} is not found in the inventory.\".format(book_title))\n"
   ]
  },
  {
   "cell_type": "markdown",
   "id": "97661580-91f2-44f0-9446-3f3efb449ced",
   "metadata": {},
   "source": [
    "# Task:4.\tCorrect the typo in \"The Lord of the Rings\" by adding the missing \"genre\" key."
   ]
  },
  {
   "cell_type": "code",
   "execution_count": 16,
   "id": "36181b49-771f-4973-80b9-15de78d61c34",
   "metadata": {},
   "outputs": [
    {
     "name": "stdout",
     "output_type": "stream",
     "text": [
      "Updated Book Inventory:\n",
      "Moby Dick\n",
      "\tauthor: Herman Melville\n",
      "\tgenre: Adventure\n",
      "\tin_stock: 10\n",
      "Pride and Prejudice\n",
      "\tauthor: Jane Austen\n",
      "\tgenre: Romance\n",
      "\tin_stock: 5\n",
      "The Lord of the Rings\n",
      "\tauthor: J.R.R. Tolkien\n",
      "\tfantasy: Epic Fantasy\n",
      "\tin_stock: 8\n"
     ]
    }
   ],
   "source": [
    "print(\"Updated Book Inventory:\")\n",
    "for book_title, book_info in book_inventory.items():\n",
    "    print(book_title)\n",
    "    for key, value in book_info.items():\n",
    "        print(\"\\t{}: {}\".format(key, value))"
   ]
  },
  {
   "cell_type": "markdown",
   "id": "2bf953a4-17b0-4734-97fb-bff09e67bfb8",
   "metadata": {},
   "source": [
    "# Task:5. Display all books with their details in a user-friendly format."
   ]
  },
  {
   "cell_type": "code",
   "execution_count": 17,
   "id": "fb8e397a-e0cf-4f7e-9078-35011d4118d7",
   "metadata": {},
   "outputs": [
    {
     "name": "stdout",
     "output_type": "stream",
     "text": [
      "Book Inventory:\n",
      "Title: Moby Dick\n",
      "\tAuthor: Herman Melville\n",
      "\tGenre: Adventure\n",
      "\tIn Stock: 10\n",
      "Title: Pride and Prejudice\n",
      "\tAuthor: Jane Austen\n",
      "\tGenre: Romance\n",
      "\tIn Stock: 5\n",
      "Title: The Lord of the Rings\n",
      "\tAuthor: J.R.R. Tolkien\n",
      "\tGenre: None\n",
      "\tIn Stock: 8\n"
     ]
    }
   ],
   "source": [
    "print(\"Book Inventory:\")\n",
    "for title, details in book_inventory.items():\n",
    "    print(\"Title:\", title)\n",
    "    print(\"\\tAuthor:\", details.get(\"author\"))\n",
    "    print(\"\\tGenre:\", details.get(\"genre\"))\n",
    "    print(\"\\tIn Stock:\", details.get(\"in_stock\"))\n"
   ]
  },
  {
   "cell_type": "markdown",
   "id": "09f3a165-4787-496c-b500-ae42b451e7db",
   "metadata": {},
   "source": [
    "# Scenario 3: Online Shopping Cart\n",
    "Input:\n",
    "Python\n",
    "cart = {\n",
    " \"apple\": 3, # Quantity of each item\n",
    " \"banana\": 2,\n",
    " \"milk\": 1\n",
    "}\n",
    "prices = {\n",
    " \"apple\": 1.50,\n",
    " \"banana\": 0.75,\n",
    " \"milk\": 3.00\n",
    "}\n",
    "# Task:1.\tCalculate the total cost of each item in the cart."
   ]
  },
  {
   "cell_type": "code",
   "execution_count": 19,
   "id": "087ffcf3-9e21-473a-abb6-4673698b3779",
   "metadata": {},
   "outputs": [
    {
     "name": "stdout",
     "output_type": "stream",
     "text": [
      "Total cost of each item in the cart:\n",
      "apple: $4.50\n",
      "banana: $1.50\n",
      "milk: $3.00\n"
     ]
    }
   ],
   "source": [
    "cart = {\n",
    " \"apple\": 3, # Quantity of each item\n",
    " \"banana\": 2,\n",
    " \"milk\": 1\n",
    "}\n",
    "prices = {\n",
    " \"apple\": 1.50,\n",
    " \"banana\": 0.75,\n",
    " \"milk\": 3.00\n",
    "}\n",
    "total_costs = {}\n",
    "for item, quantity in cart.items():\n",
    "    total_costs[item] = quantity * prices.get(item, 0)\n",
    "\n",
    "print(\"Total cost of each item in the cart:\")\n",
    "for item, cost in total_costs.items():\n",
    "    print(\"{}: ${:.2f}\".format(item, cost)) "
   ]
  },
  {
   "cell_type": "markdown",
   "id": "dcb4a439-69f2-4872-bba8-4563182d1174",
   "metadata": {},
   "source": [
    "# Task 2.\tCompute the overall subtotal for all items before tax."
   ]
  },
  {
   "cell_type": "code",
   "execution_count": 22,
   "id": "263cf4d1-48e8-49ba-ba10-77e6daeead39",
   "metadata": {},
   "outputs": [
    {
     "name": "stdout",
     "output_type": "stream",
     "text": [
      "Overall subtotal before tax: $9.00\n"
     ]
    }
   ],
   "source": [
    "cart = {\n",
    " \"apple\": 3, # Quantity of each item\n",
    " \"banana\": 2,\n",
    " \"milk\": 1\n",
    "}\n",
    "prices = {\n",
    " \"apple\": 1.50,\n",
    " \"banana\": 0.75,\n",
    " \"milk\": 3.00\n",
    "}\n",
    "subtotal = sum(cart[item] * prices.get(item, 0) for item in cart)\n",
    "print(\"Overall subtotal before tax: ${:.2f}\".format(subtotal))"
   ]
  },
  {
   "cell_type": "markdown",
   "id": "9da0d2c4-cd74-4102-b0f4-6afeca0e1c83",
   "metadata": {},
   "source": [
    "# Task 3.\tAdd a 10% sales tax and calculate the final total.\n",
    "Apple: $4.50\n",
    "Banana: $1.50\n",
    "Milk: $3.00"
   ]
  },
  {
   "cell_type": "code",
   "execution_count": 31,
   "id": "705d9a08-7fd7-4993-8c07-85517a6d175a",
   "metadata": {},
   "outputs": [
    {
     "name": "stdout",
     "output_type": "stream",
     "text": [
      "Apple: $3.45\n",
      "Banana: $3.15\n",
      "Milk: $3.30\n"
     ]
    }
   ],
   "source": [
    "item_totals = {item: quantity * price for item, quantity in cart.items() for item, price in prices.items()}\n",
    "item_totals = {item: cart[item] * prices[item] for item in cart}\n",
    "item_totals = {item: cart[item] * prices[item] for item in cart}\n",
    "#print (item_totals)\n",
    "\n",
    "tax_rate = 0.10\n",
    "item_tax = {item: item_cost * tax_rate for item, item_cost in item_totals.items()}\n",
    "item_final_total = {item: item_cost + tax for item, item_cost in item_totals.items() for item, tax in item_tax.items()}\n",
    "for item, total in item_final_total.items():\n",
    "    print(\"{}: ${:.2f}\".format(item.capitalize(), total))"
   ]
  },
  {
   "cell_type": "markdown",
   "id": "b6e14472-2f91-4c4c-bbb7-109f0b969534",
   "metadata": {},
   "source": [
    "# List comprehension!\r\n",
    "\r\n",
    "Scenario 1: Filtering Available Hotel Rooms\r\n",
    "• Input: A list of dictionaries representing hotel rooms, where each dictionary has keys\r\n",
    "like room_type (e.g., \"Single\", \"Double\") and availability (e.g., True, False).\r\n",
    "• Task: Create a new list containing only the room dictionaries with availability set to\r\n",
    "True.\r\n"
   ]
  },
  {
   "cell_type": "code",
   "execution_count": 32,
   "id": "90d21318-830c-40cd-88d8-fe5ec1f02c0a",
   "metadata": {},
   "outputs": [
    {
     "name": "stdout",
     "output_type": "stream",
     "text": [
      "Available Rooms:\n",
      "{'room_type': 'Single', 'availability': True}\n",
      "{'room_type': 'Double', 'availability': True}\n",
      "{'room_type': 'Twin', 'availability': True}\n"
     ]
    }
   ],
   "source": [
    "rooms = [\n",
    "    {\"room_type\": \"Single\", \"availability\": True},\n",
    "    {\"room_type\": \"Double\", \"availability\": True},\n",
    "    {\"room_type\": \"Suite\", \"availability\": False},\n",
    "    {\"room_type\": \"Twin\", \"availability\": True},\n",
    "    {\"room_type\": \"Deluxe\", \"availability\": False}\n",
    "]\n",
    "\n",
    "available_rooms = [room for room in rooms if room[\"availability\"]]\n",
    "print(\"Available Rooms:\")\n",
    "for room in available_rooms:\n",
    "    print(room)"
   ]
  },
  {
   "cell_type": "markdown",
   "id": "0aa8ef7b-7953-413a-b0a0-b953e8652213",
   "metadata": {},
   "source": [
    "# Scenario 2: Extracting High Scores from a Game\r\n",
    "• Input: A list of player scores (e.g., player_scores = [80, 95, 72, 100, 88]) and a\r\n",
    "threshold score (e.g., threshold = 90).\r\n",
    "• Task: Create a new list containing only the scores that are greater than or equal to the\r\n",
    "threshld.\r\n"
   ]
  },
  {
   "cell_type": "code",
   "execution_count": 33,
   "id": "70cde026-17d1-4f79-b66d-0a2e939a2502",
   "metadata": {},
   "outputs": [
    {
     "name": "stdout",
     "output_type": "stream",
     "text": [
      "High Scores: [95, 100]\n"
     ]
    }
   ],
   "source": [
    "player_scores = [80, 95, 72, 100, 88]\n",
    "threshold = 90\n",
    "high_scores = [score for score in player_scores if score >= threshold]\n",
    "print(\"High Scores:\", high_scores)"
   ]
  },
  {
   "cell_type": "markdown",
   "id": "75c662ff-8aaf-44ca-a25c-2a8dd1f72659",
   "metadata": {},
   "source": [
    "# Scenario 3: Building a Shopping Cart with Conditional Discounts\r\n",
    "• Input: A list of product dictionaries with keys like name (e.g., \"T-Shirt\"), price (e.g.,\r\n",
    "20), and category (e.g., \"Clothing\"), and a list of discount rules represented as\r\n",
    "dictionaries with keys like category (e.g., \"Clothing\") and discount_percent (e.g.,\r\n",
    "10).\r\n",
    "• Task: Create a new list containing product dictionaries with their final prices after\r\n",
    "applying any applicable discunts.\r\n"
   ]
  },
  {
   "cell_type": "code",
   "execution_count": 34,
   "id": "a745d624-0acd-45a1-9aea-87a6f7867d48",
   "metadata": {},
   "outputs": [
    {
     "name": "stdout",
     "output_type": "stream",
     "text": [
      "Product\t\tPrice\tFinal Price\n",
      "T-Shirt\t\t$18.00\t$18.00\n",
      "Jeans\t\t$45.00\t$45.00\n",
      "Sneakers\t\t$68.00\t$68.00\n"
     ]
    }
   ],
   "source": [
    "def apply_discount(product, discount_rules):\n",
    "    for rule in discount_rules:\n",
    "        if product[\"category\"] == rule[\"category\"]:\n",
    "            discount_percent = rule[\"discount_percent\"]\n",
    "            product[\"price\"] *= (1 - discount_percent / 100)\n",
    "    return product\n",
    "\n",
    "products = [\n",
    "    {\"name\": \"T-Shirt\", \"price\": 20, \"category\": \"Clothing\"},\n",
    "    {\"name\": \"Jeans\", \"price\": 50, \"category\": \"Clothing\"},\n",
    "    {\"name\": \"Sneakers\", \"price\": 80, \"category\": \"Shoes\"}\n",
    "]\n",
    "\n",
    "discount_rules = [\n",
    "    {\"category\": \"Clothing\", \"discount_percent\": 10},\n",
    "    {\"category\": \"Shoes\", \"discount_percent\": 15}\n",
    "]\n",
    "\n",
    "final_prices = [apply_discount(product, discount_rules) for product in products]\n",
    "print(\"Product\\t\\tPrice\\tFinal Price\")\n",
    "for product in final_prices:\n",
    "    print(\"{}\\t\\t${:.2f}\\t${:.2f}\".format(product[\"name\"], product[\"price\"], product[\"price\"])) "
   ]
  },
  {
   "cell_type": "markdown",
   "id": "54985d52-d96f-4344-88ae-604a7a653a5d",
   "metadata": {},
   "source": [
    "# Nested list comprehension\r\n",
    "# \r\n",
    "Scenario 1: Generating Combinations:\r\n",
    "• Task: Create a list of all possible combinations of two toppings on a pizza (e.g., from\r\n",
    "\"pepperoni\", \"mushrooms\", \"onions\").\r\n",
    "• Input: Lists of topping options (e.g., toppings1 = [\"pepperoni\", \"mushrooms\"],\r\n",
    "toppings2 = [\"onions\", \"pepprs\"])\r\n"
   ]
  },
  {
   "cell_type": "code",
   "execution_count": 35,
   "id": "b13ed44e-0717-42a0-90f3-c6687fb71b0f",
   "metadata": {},
   "outputs": [
    {
     "name": "stdout",
     "output_type": "stream",
     "text": [
      "['pepperoni', 'onions']\n",
      "['pepperoni', 'peppers']\n",
      "['mushrooms', 'onions']\n",
      "['mushrooms', 'peppers']\n"
     ]
    }
   ],
   "source": [
    "def pizza_combinations(toppings1, toppings2):\n",
    "    combinations = []\n",
    "    for topping1 in toppings1:\n",
    "        for topping2 in toppings2:\n",
    "            combinations.append([topping1, topping2])\n",
    "    return combinations\n",
    "\n",
    "toppings1 = [\"pepperoni\", \"mushrooms\"]\n",
    "toppings2 = [\"onions\", \"peppers\"]\n",
    "\n",
    "all_combinations = pizza_combinations(toppings1, toppings2)\n",
    "for combination in all_combinations:\n",
    "    print(combination)"
   ]
  },
  {
   "cell_type": "markdown",
   "id": "b6333ade-7ebe-40ca-9f92-ad62e9e38d0c",
   "metadata": {},
   "source": [
    "# Scenario 2: Movie Recommendation System (Considering User Preferences)\n",
    "• Task: Given a list of movies and their genres (movies = [{\"title\": \"Baahubali\",\n",
    "\"genre\": \"Action\"}, ...]), create a dictionary mapping genres to movie titles based\n",
    "on user preferences (e.g., preferred genre entered as user_pref=\"Comedy\")."
   ]
  },
  {
   "cell_type": "code",
   "execution_count": 38,
   "id": "c850c7ea-e6b1-457a-bc06-d474c54f9b40",
   "metadata": {},
   "outputs": [
    {
     "name": "stdout",
     "output_type": "stream",
     "text": [
      "{'Comedy': ['Dumb and Dumber', 'The Hangover']}\n"
     ]
    }
   ],
   "source": [
    "def map_movies_to_genre(movies, user_pref):\n",
    "    genre_to_movies = {}\n",
    "    for movie in movies:\n",
    "        title = movie[\"title\"]\n",
    "        genre = movie[\"genre\"]\n",
    "        if genre == user_pref:\n",
    "            if genre not in genre_to_movies:\n",
    "                genre_to_movies[genre] = [title]\n",
    "            else:\n",
    "                genre_to_movies[genre].append(title)\n",
    "    return genre_to_movies\n",
    "\n",
    "movies = [\n",
    "    {\"title\": \"Baahubali\", \"genre\": \"Action\"},\n",
    "    {\"title\": \"Dumb and Dumber\", \"genre\": \"Comedy\"},\n",
    "    {\"title\": \"The Shawshank Redemption\", \"genre\": \"Drama\"},\n",
    "    {\"title\": \"Deadpool\", \"genre\": \"Action\"},\n",
    "    {\"title\": \"The Hangover\", \"genre\": \"Comedy\"},\n",
    "    {\"title\": \"Inception\", \"genre\": \"Sci-Fi\"}\n",
    "]\n",
    "\n",
    "user_pref = \"Comedy\"\n",
    "\n",
    "genre_to_movies = map_movies_to_genre(movies, user_pref)\n",
    "print(genre_to_movies)"
   ]
  },
  {
   "cell_type": "code",
   "execution_count": null,
   "id": "1a89e34d-329e-4773-8bfa-d271dd1d6b28",
   "metadata": {},
   "outputs": [],
   "source": []
  }
 ],
 "metadata": {
  "kernelspec": {
   "display_name": "Python 3 (ipykernel)",
   "language": "python",
   "name": "python3"
  },
  "language_info": {
   "codemirror_mode": {
    "name": "ipython",
    "version": 3
   },
   "file_extension": ".py",
   "mimetype": "text/x-python",
   "name": "python",
   "nbconvert_exporter": "python",
   "pygments_lexer": "ipython3",
   "version": "3.11.7"
  }
 },
 "nbformat": 4,
 "nbformat_minor": 5
}
