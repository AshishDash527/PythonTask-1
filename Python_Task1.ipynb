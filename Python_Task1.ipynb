{
 "cells": [
  {
   "cell_type": "code",
   "execution_count": null,
   "id": "4c65f1cc-4eda-4309-89e9-321f9d5d9baf",
   "metadata": {},
   "outputs": [],
   "source": [
    "# Python Task on 10th Apr 2024"
   ]
  },
  {
   "cell_type": "markdown",
   "id": "c47ef013-2924-403a-a906-f15c118d9899",
   "metadata": {},
   "source": [
    "# 1.Print the number of apples:\n",
    "# oInput: shopping_list = [\"apples\", \"bananas\", 3, \"milk\", 2, \"eggs\"]\n",
    "# oOutput: Number of apples: 3 (assuming 3 apples)\n"
   ]
  },
  {
   "cell_type": "code",
   "execution_count": 42,
   "id": "6dcffd01-02a0-45c8-94b7-4c09f65b528a",
   "metadata": {},
   "outputs": [
    {
     "name": "stdout",
     "output_type": "stream",
     "text": [
      "Number of apples = 3\n"
     ]
    }
   ],
   "source": [
    "shopping_list = [\"apples\", \"bananas\", 3, \"milk\", 2, \"eggs\"]\n",
    "print(\"Number of apples =\",shopping_list[-4]) \n"
   ]
  },
  {
   "cell_type": "markdown",
   "id": "9154303a-5ece-4a9f-b276-38b9055de906",
   "metadata": {},
   "source": [
    "# 2.Extract the dairy items (milk and eggs):\n",
    "# oInput: Same as question 1\n",
    "# oOutput: Dairy items: ['milk', 2, 'eggs'] (including quantity)"
   ]
  },
  {
   "cell_type": "code",
   "execution_count": 26,
   "id": "2f6cfbc3-2f1f-4b17-a096-f9732c708be2",
   "metadata": {},
   "outputs": [
    {
     "name": "stdout",
     "output_type": "stream",
     "text": [
      "Dairy items: ['milk', 2, 'eggs']\n"
     ]
    }
   ],
   "source": [
    "shopping_list = [\"apples\", \"bananas\", 3, \"milk\", 2, \"eggs\"]\n",
    "print (\"Dairy items:\", shopping_list[3:])"
   ]
  },
  {
   "cell_type": "markdown",
   "id": "ae99b953-0abf-4fd1-b303-328365d5f112",
   "metadata": {},
   "source": [
    "# 3.Create a new list with just the fruit names:\r",
    "# \n",
    "oInput: Same as question 1# \r\n",
    "oOutput: Fruits: ['apples', 'bananas]\r\n"
   ]
  },
  {
   "cell_type": "code",
   "execution_count": 27,
   "id": "51b193a3-1199-425c-a66b-5722a0230a8b",
   "metadata": {},
   "outputs": [
    {
     "name": "stdout",
     "output_type": "stream",
     "text": [
      "Fruits: ['apples', 'bananas']\n"
     ]
    }
   ],
   "source": [
    "shopping_list = [\"apples\", \"bananas\", 3, \"milk\", 2, \"eggs\"]\n",
    "print(\"Fruits:\",shopping_list[0:2] )"
   ]
  },
  {
   "cell_type": "markdown",
   "id": "832cc9f8-4e25-461b-9f77-18e61696a46d",
   "metadata": {},
   "source": [
    "# 4.Find the highest temperature:\n",
    "# oInput: temperatures = [25, 28, 32, 30, 27, 23, 21]\n",
    "# oOutput: Highest temperature: 32 (may vary based on data)"
   ]
  },
  {
   "cell_type": "code",
   "execution_count": 28,
   "id": "e4c4a83c-193f-4067-8890-a79b539a49ef",
   "metadata": {},
   "outputs": [
    {
     "name": "stdout",
     "output_type": "stream",
     "text": [
      "Highest temperature: 32\n"
     ]
    }
   ],
   "source": [
    "temperatures = [25, 28, 32, 30, 27, 23, 21]\n",
    "print(\"Highest temperature:\", max(temperatures))"
   ]
  },
  {
   "cell_type": "markdown",
   "id": "8a126255-2b0a-4ed1-8d22-b67e722e2dc5",
   "metadata": {},
   "source": [
    "# 5.Print the days (indices) with temperatures above 30 degrees:\n",
    "# oInput: Same as question 1\n",
    "# oOutput: (This will vary depending on your input data)\n",
    "# oDay 3 (index 2): 32 degrees\n",
    "# oDay 4 (index 3): 30 degrees"
   ]
  },
  {
   "cell_type": "code",
   "execution_count": 29,
   "id": "aa194998-d758-4188-be7d-e27a48350c8a",
   "metadata": {},
   "outputs": [
    {
     "name": "stdout",
     "output_type": "stream",
     "text": [
      "Day 2 : 32\n",
      "Day 3 : 30\n"
     ]
    }
   ],
   "source": [
    "temperatures = [25, 28, 32, 30, 27, 23, 21]\n",
    "print(\"Day\",temperatures.index(32),\":\",temperatures[2])\n",
    "print(\"Day\",temperatures.index(30),\":\", temperatures[3])"
   ]
  },
  {
   "cell_type": "markdown",
   "id": "1b0eb14b-1bef-4331-8161-8f67476da0f9",
   "metadata": {},
   "source": [
    "# 6.Create a new list with the last three days' temperatures:\n",
    "# oInput: Same as question 1\n",
    "# oOutput: Last three days' temperatures: [27, 23, 21]"
   ]
  },
  {
   "cell_type": "code",
   "execution_count": 30,
   "id": "e4d09030-3226-40e7-b3c5-fc6923cbaea6",
   "metadata": {},
   "outputs": [
    {
     "name": "stdout",
     "output_type": "stream",
     "text": [
      "Last three days' temperatures: [27, 23, 21]\n"
     ]
    }
   ],
   "source": [
    "temperatures = [25, 28, 32, 30, 27, 23, 21]\n",
    "print(\"Last three days' temperatures:\", temperatures[-3:])"
   ]
  },
  {
   "cell_type": "markdown",
   "id": "e8ffb0d3-2408-4633-97c3-0c8e3a1becac",
   "metadata": {},
   "source": [
    "# 7.Print the average rating:\n",
    "# oInput: movies = (\"Casablanca\", 9.7, \"The Godfather\", 9.2, \"The Shawshank Redemption\", 9.3)\n",
    "# oOutput: Average rating: 9.4 (may vary slightly)"
   ]
  },
  {
   "cell_type": "code",
   "execution_count": 31,
   "id": "cca3143a-3981-445e-9680-3020c7a90bb6",
   "metadata": {},
   "outputs": [
    {
     "name": "stdout",
     "output_type": "stream",
     "text": [
      "(9.7, 9.2, 9.3)\n",
      "Average rating: 9.4\n"
     ]
    }
   ],
   "source": [
    "movies = (\"Casablanca\", 9.7, \"The Godfather\", 9.2, \"The Shawshank Redemption\", 9.3)\n",
    "def Average(Values):\n",
    "    return sum(Values)/len(Values)\n",
    "Values =(movies[1], movies[3], movies[5])\n",
    "print(Values)\n",
    "print(\"Average rating:\", Average(Values))\n"
   ]
  },
  {
   "cell_type": "markdown",
   "id": "2f3243ee-b861-4ee9-8c27-be70dbb7ce71",
   "metadata": {},
   "source": [
    "# 8.Extract the movie with the highest rating:\r",
    "# \n",
    "oInput: Same as question 1# \r\n",
    "oOutput: Highest rated movie: The Shawshank Redemption (may vary based on input dat)\r\n"
   ]
  },
  {
   "cell_type": "code",
   "execution_count": 32,
   "id": "ab6c1938-78c0-454b-bcaf-521e0874a293",
   "metadata": {},
   "outputs": [
    {
     "name": "stdout",
     "output_type": "stream",
     "text": [
      "Casablanca\n"
     ]
    }
   ],
   "source": [
    "movies = (\"Casablanca\", 9.7, \"The Godfather\", 9.2, \"The Shawshank Redemption\", 9.3)\n",
    "Values =(movies[1], movies[3], movies[5])\n",
    "HighestRating = max(Values)\n",
    "HighestRating_Index = movies.index(HighestRating)\n",
    "Highestratedmovie = movies[HighestRating_Index - 1]\n",
    "print(Highestratedmovie)"
   ]
  },
  {
   "cell_type": "markdown",
   "id": "e230fbdb-0d3b-4fc6-8aef-2d16f07552f2",
   "metadata": {},
   "source": [
    "# 9.Create a new tuple with only the movie titles:\n",
    "# oInput: Same as question 1\n",
    "# oOutput: Movie titles: ('Casablanca', 'The Godfather', 'The Shawshank Redemption')"
   ]
  },
  {
   "cell_type": "code",
   "execution_count": 33,
   "id": "c9dfb209-a0b5-43e2-8fc4-ab602fa0af1d",
   "metadata": {},
   "outputs": [
    {
     "name": "stdout",
     "output_type": "stream",
     "text": [
      "<class 'tuple'>\n"
     ]
    }
   ],
   "source": [
    "movies = (\"Casablanca\", 9.7, \"The Godfather\", 9.2, \"The Shawshank Redemption\", 9.3)\n",
    "Movietitles =(movies[0], movies[2], movies[4])\n",
    "print(type(Movietitles))"
   ]
  },
  {
   "cell_type": "markdown",
   "id": "0d682481-a962-41a1-be1d-c2c50edc7f50",
   "metadata": {},
   "source": [
    "# You're planning a party and need to create guest lists for different tables.]# \r\n",
    "Questions# :0\r\n",
    "1.Create a list for each table with 2 guests (replicate the original lis\n",
    "# Input: guest_list = [\"Alice\", \"Bob\", \"Charlie\", \"David\", \"Eve\"]t# :\r\n",
    "oOutput: (This will vary depending on the number of gues# s)\r\n",
    "oTable 1: ['Alice', 'B# b']\r\n",
    "oTable 2: ['Charlie', 'Da# id']\r\n",
    "oTable 3: ['Eve']  (If there are leftover uests)\r\n"
   ]
  },
  {
   "cell_type": "code",
   "execution_count": 34,
   "id": "11e78592-749a-4f3d-8ba0-da5240f713d0",
   "metadata": {},
   "outputs": [
    {
     "name": "stdout",
     "output_type": "stream",
     "text": [
      "['Alice', 'Bob']\n",
      "['Charlie', 'David']\n",
      "['Eve']\n"
     ]
    }
   ],
   "source": [
    "guest_list = [\"Alice\", \"Bob\", \"Charlie\", \"David\", \"Eve\",]\n",
    "Table1 =  guest_list[: len(guest_list)//2]\n",
    "Table2 =  guest_list[len(guest_list)//2:len(guest_list) -1]\n",
    "Table3 =  guest_list[len(guest_list)-1:]\n",
    "print (Table1)\n",
    "print (Table2)\n",
    "print (Table3)"
   ]
  },
  {
   "cell_type": "markdown",
   "id": "6e7b1e3d-142b-477a-b015-b57ee611d9c7",
   "metadata": {},
   "source": [
    "# 11.Create a single list with all guests invited twice (repeat the list):\r",
    "# oOutput: Combined guest list: ['Alice', 'Bob', 'Charlie', 'David', 'Eve', 'Alice', 'Bob', 'Charlie', 'David', 'Eve'\r\n"
   ]
  },
  {
   "cell_type": "code",
   "execution_count": 47,
   "id": "477d9b45-b56a-4bfc-8eb0-fcdc62f29850",
   "metadata": {},
   "outputs": [
    {
     "name": "stdout",
     "output_type": "stream",
     "text": [
      "['Alice', 'Bob', 'Charlie', 'David', 'Eve', 'Alice', 'Bob', 'Charlie', 'David', 'Eve']\n"
     ]
    }
   ],
   "source": [
    "guest_list = [\"Alice\", \"Bob\", \"Charlie\", \"David\", \"Eve\",]\n",
    "Combined_guest_list = guest_list + guest_list\n",
    "print(Combined_guest_list)"
   ]
  },
  {
   "cell_type": "markdown",
   "id": "2e07f473-fd41-40dd-954b-58993f10d3cf",
   "metadata": {},
   "source": [
    "# 12. Input: text = \"This is a sample text for analysis.\"\n",
    "# 1.Extract the first three words:\n",
    "# Output: First three words: This is a"
   ]
  },
  {
   "cell_type": "code",
   "execution_count": 36,
   "id": "a9ccfa0e-eb71-4cad-b753-ff676c993863",
   "metadata": {},
   "outputs": [
    {
     "name": "stdout",
     "output_type": "stream",
     "text": [
      "This is a\n"
     ]
    }
   ],
   "source": [
    "text = \"This is a sample text for analysis.\"\n",
    "result = text.index('sample')\n",
    "Extract_First_three_words = text[:result]\n",
    "First_three_words = Extract_First_three_words.strip()\n",
    "print(First_three_words)"
   ]
  },
  {
   "cell_type": "markdown",
   "id": "2a035aa9-3bf9-4b91-b69c-de268daf285d",
   "metadata": {},
   "source": [
    "# 2.Extract the substring from \"sample\" to \"analysis\" (inclusive):\n",
    "# Output: Extracted substring: sample text for analysis"
   ]
  },
  {
   "cell_type": "code",
   "execution_count": 37,
   "id": "49419461-e701-4f52-be78-de78c8e33a1e",
   "metadata": {},
   "outputs": [
    {
     "name": "stdout",
     "output_type": "stream",
     "text": [
      "sample text for analysis.\n"
     ]
    }
   ],
   "source": [
    "text = \"This is a sample text for analysis.\"\n",
    "result = text.index('sample')\n",
    "Extracted_substring = text[result:]\n",
    "print(Extracted_substring)"
   ]
  },
  {
   "cell_type": "markdown",
   "id": "40856144-0602-4d6d-b207-8919f617bf97",
   "metadata": {},
   "source": [
    "# 1.Create a list containing items you need.\n",
    "# shopping_list = [\"Milk\", \"Bread\", \"Eggs\", \"Apples\", \"Bananas\"]\r",
    "# \n",
    "2.Print the entire list\n",
    "# shopping_list = [\"Milk\", \"Bread\", \"Eggs\", \"Apples\", \"Bananas\"].# \r\n",
    "3.Remove an item you no longer nee\n",
    "# item_to_remove = \"Eggs\"\n",
    "# Eggs removed from the list.\n",
    "# d.\r\n",
    "4.Check if a specific item is on the la# Eggs\"\r\n",
    "item_to_check = \"C# Cheese is not on the shopping list.\n",
    "heese\"\r\n"
   ]
  },
  {
   "cell_type": "code",
   "execution_count": 38,
   "id": "434e61e4-10de-4d6e-a0fa-381ef06283aa",
   "metadata": {},
   "outputs": [
    {
     "name": "stdout",
     "output_type": "stream",
     "text": [
      "['Milk', 'Bread', 'Eggs', 'Apples', 'Bananas']\n",
      "['Milk', 'Bread', 'Apples', 'Bananas']\n"
     ]
    }
   ],
   "source": [
    "# 1.Create a list containing items you need.\n",
    "shopping_list = [\"Milk\", \"Bread\", \"Eggs\", \"Apples\", \"Bananas\"]\n",
    "# 2.Print the entire list.\n",
    "print(shopping_list)\n",
    "# 3.Remove an item you no longer need.\n",
    "item_to_remove = \"Eggs\"\n",
    "while (item_to_remove in shopping_list):\n",
    "    shopping_list.remove(item_to_remove)\n",
    "print(shopping_list) \n"
   ]
  },
  {
   "cell_type": "code",
   "execution_count": 46,
   "id": "f17f9e19-595e-4fce-b4ce-a8bf20c2258d",
   "metadata": {},
   "outputs": [
    {
     "name": "stdout",
     "output_type": "stream",
     "text": [
      "Cheese is not on the shopping list.\n"
     ]
    }
   ],
   "source": [
    "shopping_list = [\"Milk\", \"Bread\", \"Eggs\", \"Apples\", \"Bananas\"]\n",
    "item_to_check = \"Cheese\"\n",
    "\n",
    "if item_to_check in shopping_list:\n",
    "   print(item_to_check + \" available in shopping list.\")\n",
    "else:\n",
    "   print(item_to_check + \" is not on the shopping list.\")\n",
    "    "
   ]
  }
 ],
 "metadata": {
  "kernelspec": {
   "display_name": "Python 3 (ipykernel)",
   "language": "python",
   "name": "python3"
  },
  "language_info": {
   "codemirror_mode": {
    "name": "ipython",
    "version": 3
   },
   "file_extension": ".py",
   "mimetype": "text/x-python",
   "name": "python",
   "nbconvert_exporter": "python",
   "pygments_lexer": "ipython3",
   "version": "3.11.7"
  }
 },
 "nbformat": 4,
 "nbformat_minor": 5
}
