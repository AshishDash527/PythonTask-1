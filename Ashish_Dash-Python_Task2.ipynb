{
 "cells": [
  {
   "cell_type": "markdown",
   "id": "17d39766-7f70-41d9-a8f3-4ba3fc7cfe47",
   "metadata": {},
   "source": [
    "# Question 1: Given a string of odd length greater 7, return a string made of the middle three chars of a given String.\n",
    "# getMiddleThreeChars(\"JhonDipPeta\") → \"Dip\""
   ]
  },
  {
   "cell_type": "code",
   "execution_count": 43,
   "id": "df316af8-0ed6-47fa-8257-b76d0bb3f9c7",
   "metadata": {},
   "outputs": [
    {
     "data": {
      "text/plain": [
       "'Dip'"
      ]
     },
     "execution_count": 43,
     "metadata": {},
     "output_type": "execute_result"
    }
   ],
   "source": [
    "Input_1 = (\"JhonDipPeta\")\n",
    "Mid_Char = len(Input_1)//2\n",
    "getMiddleThreeChars = Input_1[Mid_Char - 1:Mid_Char + 2]\n",
    "getMiddleThreeChars"
   ]
  },
  {
   "cell_type": "markdown",
   "id": "e041ae00-90b2-4e71-9b10-36f9fafa1709",
   "metadata": {},
   "source": [
    "# getMiddleThreeChars(\"Jasonay\") → \"son\""
   ]
  },
  {
   "cell_type": "code",
   "execution_count": 53,
   "id": "16c7f45b-8a42-4da4-817c-45c9717aa923",
   "metadata": {},
   "outputs": [
    {
     "data": {
      "text/plain": [
       "'son'"
      ]
     },
     "execution_count": 53,
     "metadata": {},
     "output_type": "execute_result"
    }
   ],
   "source": [
    "Input_2 = (\"Jasonay\")\n",
    "Midl_Char = len(A)//2\n",
    "Midl_Char\n",
    "getMiddleThreeCharcs = Input_2[Midl_Char - 3:Mid_Char]\n",
    "getMiddleThreeCharcs"
   ]
  },
  {
   "cell_type": "markdown",
   "id": "e391799a-065e-4036-b0f6-3090a67b10d6",
   "metadata": {},
   "source": [
    "# Question 2: Given 2 strings, s1 and s2, create a new string by appending s2 in the middle of s1.\n",
    "# appendMiddle(\"Chrisdem\", IamNewString) → \"ChrIamNewStringisdem\""
   ]
  },
  {
   "cell_type": "code",
   "execution_count": 57,
   "id": "0297b4fe-4d31-46e3-b5dc-b887cd36d64d",
   "metadata": {},
   "outputs": [
    {
     "data": {
      "text/plain": [
       "'ChrIamNewStringisdem'"
      ]
     },
     "execution_count": 57,
     "metadata": {},
     "output_type": "execute_result"
    }
   ],
   "source": [
    "S1 = \"Chrisdem\"\n",
    "S2 = \"IamNewString\"\n",
    "Midl_Char = len(S1)//2\n",
    "S3 = S1[:Midl_Char-1]+S2+S1[Midl_Char-1:]\n",
    "S3"
   ]
  },
  {
   "cell_type": "markdown",
   "id": "a85bb994-257f-4cfb-a61f-5814c6b4027f",
   "metadata": {},
   "source": [
    "# Question 3:Given 2 strings, s1, and s2 return a new string made of the first, middle and last char each input string.\n",
    "# mixString(\"America\", \"Japan\") = \"\"AJrpan\""
   ]
  },
  {
   "cell_type": "code",
   "execution_count": 68,
   "id": "0690d423-029c-4bbd-afdd-42499b8aaef2",
   "metadata": {},
   "outputs": [
    {
     "name": "stdout",
     "output_type": "stream",
     "text": [
      "AJrpan\n"
     ]
    }
   ],
   "source": [
    "s1 = 'America'\n",
    "s2 = 'Japan'\n",
    "def combString(s1,s2):\n",
    "    return s3\n",
    "    s3 = s1[0] + s2[0] + s1[len(s1)//2] + s2[len(s2)//2] + s1[-1] + s2[-1]\n",
    "print(s3)"
   ]
  },
  {
   "cell_type": "markdown",
   "id": "2975f06c-e044-4604-a365-eb3766dba4c6",
   "metadata": {},
   "source": [
    "# Question 4:arrange String characters such that lowercase letters should come first.\n",
    "# input_String = PyNaTive"
   ]
  },
  {
   "cell_type": "code",
   "execution_count": 80,
   "id": "d1e3e12b-0c30-442d-9182-caf02cbd002d",
   "metadata": {},
   "outputs": [
    {
     "name": "stdout",
     "output_type": "stream",
     "text": [
      "aeivy\n",
      "NPT\n"
     ]
    }
   ],
   "source": [
    "input_String = 'PyNaTive'\n",
    "lowercase = ''.join(sorted([char for char in input_String if char.islower()]))\n",
    "uppercase = ''.join(sorted([char for char in input_String if char.isupper()]))\n",
    "\n",
    "print(lowercase)\n",
    "print(uppercase)"
   ]
  },
  {
   "cell_type": "markdown",
   "id": "ba9bda19-b134-44ab-b4c9-f33190af502f",
   "metadata": {},
   "source": [
    "# Question 5:Given a string input Count all lower case, upper case, digits, and special symbols.\n",
    "# input_str = \"P@#yn26at^&i5ve\""
   ]
  },
  {
   "cell_type": "code",
   "execution_count": 95,
   "id": "a192e3e5-9ca8-4c8e-a888-3ff12d7311f2",
   "metadata": {},
   "outputs": [],
   "source": [
    "input_str = \"P@#yn26at^&i5ve\"\n",
    "def countCharacters(input_str):\n",
    "   chars = 0\n",
    "   digits = 0\n",
    "   symbols = 0\n",
    "\n",
    "   for char in input_str:\n",
    "       if char.islower():\n",
    "           chars += 1\n",
    "       elif char.isupper():\n",
    "           chars += 1\n",
    "       elif char.isdigit():\n",
    "           digits += 1\n",
    "       else:\n",
    "           symbols += 1\n",
    "\n",
    "   return \"Chars = {}, Digits = {}, Symbol = {}\".format(chars, digits, symbols)"
   ]
  },
  {
   "cell_type": "markdown",
   "id": "fd70554f-d0e0-46a6-85d5-92edd34a49b6",
   "metadata": {},
   "source": [
    "# Question 6: Given two strings, s1 and s2, create a mixed String."
   ]
  },
  {
   "cell_type": "code",
   "execution_count": 96,
   "id": "01e9bb83-3c42-4528-8c90-1bde82abfcee",
   "metadata": {},
   "outputs": [],
   "source": [
    "def mixString(s1, s2):\n",
    "   result = ''\n",
    "   i = 0\n",
    "   j = len(s2) - 1\n",
    "\n",
    "   while i < len(s1) and j >= 0:\n",
    "       result += s1[i] + s2[j]\n",
    "       i += 1\n",
    "       j -= 1\n",
    "\n",
    "   result += s1[i:] + s2[j::-1]"
   ]
  },
  {
   "cell_type": "markdown",
   "id": "46d47719-a3b9-4b18-b0de-f0674947fac6",
   "metadata": {},
   "source": [
    "# Question 7:String characters balance Test. \n",
    "# We’ll say that a String s1 and s2 is balanced if all the chars in the string1 are there in s2. characters position doesn’t matter."
   ]
  },
  {
   "cell_type": "code",
   "execution_count": 97,
   "id": "da720b32-1a74-4eb5-bd08-69135293b70d",
   "metadata": {},
   "outputs": [],
   "source": [
    "def stringBalanceCheck(s1, s2):\n",
    "   for char in s1:\n",
    "       if char not in s2:\n",
    "           return False\n",
    "   return True"
   ]
  },
  {
   "cell_type": "markdown",
   "id": "ec204992-8be0-4320-90fd-24be52af1ed1",
   "metadata": {},
   "source": [
    "# Question 8:Find all occurrences of “USA” in given string ignoring the case."
   ]
  },
  {
   "cell_type": "code",
   "execution_count": 98,
   "id": "6710969c-373b-4f68-ad1a-b7d81937f4e7",
   "metadata": {},
   "outputs": [],
   "source": [
    "def count_USA_occurrences(input_str):\n",
    "   lower_input = input_str.lower()\n",
    "   count = lower_input.count(\"usa\")\n",
    "   return count"
   ]
  },
  {
   "cell_type": "markdown",
   "id": "23df428e-ebff-48c9-be33-26e4bffe9f45",
   "metadata": {},
   "source": [
    "# Question 9:Given a string, return the sum and average of the digits that appear in the string, ignoring all other characters."
   ]
  },
  {
   "cell_type": "code",
   "execution_count": 99,
   "id": "7ce5fddc-d13a-4a58-b30c-f500f173767b",
   "metadata": {},
   "outputs": [],
   "source": [
    "def sumAndAverage(input_str):\n",
    "   digits = [int(char) for char in input_str if char.isdigit()]\n",
    "   total_sum = sum(digits)\n",
    "   average = total_sum / len(digits)\n",
    "   return total_sum, average"
   ]
  },
  {
   "cell_type": "markdown",
   "id": "ea605eba-2b8b-49f5-b190-51fb56f2067e",
   "metadata": {},
   "source": [
    "# Question 10:Given an input string, count occurrences of all characters within a string."
   ]
  },
  {
   "cell_type": "code",
   "execution_count": 100,
   "id": "8bc9d6ac-aa5e-4808-b3df-8f594f874edb",
   "metadata": {},
   "outputs": [],
   "source": [
    "def countOccurrences(input_str):\n",
    "   char_count = {}\n",
    "   for char in input_str:\n",
    "       char_count[char] = char_count.get(char, 0) + 1\n",
    "   return char_count"
   ]
  },
  {
   "cell_type": "markdown",
   "id": "156eed2c-4446-4fc6-8cec-a1d90de49e93",
   "metadata": {},
   "source": [
    "# Question 11:Given 2D array calculate the sum of diagonal elements."
   ]
  },
  {
   "cell_type": "code",
   "execution_count": 101,
   "id": "47ca5459-c96c-435e-a9bc-d9689e95162f",
   "metadata": {},
   "outputs": [],
   "source": [
    "def sumDiagonalElements(arr):\n",
    "   diagonal_sum = 0\n",
    "   for i in range(len(arr)):\n",
    "       diagonal_sum += arr[i][i]\n",
    "   return diagonal_sum"
   ]
  },
  {
   "cell_type": "markdown",
   "id": "fd1c499e-3adc-4902-b0a6-99af15382e9d",
   "metadata": {},
   "source": [
    "# Question 12:\n",
    "# From given list gadgets = [“Mobile”, “Laptop”, 100, “Camera”, 310.28, “Speakers”, 27.00, “Television”, 1000, “Laptop Case”, “Camera Lens”] \n",
    "# a) create separate lists of strings and numbers. \n",
    "# b) Sort the strings list in ascending order.\n",
    "# c) Sort the strings list in descending order.\n",
    "# d) Sort the number list from lowest to highest. \n",
    "# e) Sort the number list from highest to lowest."
   ]
  },
  {
   "cell_type": "code",
   "execution_count": 103,
   "id": "edfe2c62-b508-4e7d-97d7-eaf65489e37f",
   "metadata": {},
   "outputs": [
    {
     "name": "stdout",
     "output_type": "stream",
     "text": [
      "Strings list: ['Mobile', 'Laptop', 'Camera', 'Speakers', 'Television', 'Laptop Case', 'Camera Lens']\n",
      "Numbers list: [100, 310.28, 27.0, 1000]\n",
      "Sorted strings list in ascending order: ['Camera', 'Camera Lens', 'Laptop', 'Laptop Case', 'Mobile', 'Speakers', 'Television']\n",
      "Sorted strings list in descending order: ['Television', 'Speakers', 'Mobile', 'Laptop Case', 'Laptop', 'Camera Lens', 'Camera']\n",
      "Sorted numbers list from lowest to highest: [27.0, 100, 310.28, 1000]\n",
      "Sorted numbers list from highest to lowest: [1000, 310.28, 100, 27.0]\n"
     ]
    }
   ],
   "source": [
    "gadgets = [\"Mobile\", \"Laptop\", 100, \"Camera\", 310.28, \"Speakers\", 27.00, \"Television\", 1000, \"Laptop Case\", \"Camera Lens\"]\n",
    "string_list = [item for item in gadgets if isinstance(item, str)]\n",
    "number_list = [item for item in gadgets if isinstance(item, (int, float))]\n",
    "ascending_strings = sorted(string_list)\n",
    "descending_strings = sorted(string_list, reverse=True)\n",
    "ascending_numbers = sorted(number_list)\n",
    "descending_numbers = sorted(number_list, reverse=True)\n",
    "print(\"Strings list:\", string_list)\n",
    "print(\"Numbers list:\", number_list)\n",
    "print(\"Sorted strings list in ascending order:\", ascending_strings)\n",
    "print(\"Sorted strings list in descending order:\", descending_strings)\n",
    "print(\"Sorted numbers list from lowest to highest:\", ascending_numbers)\n",
    "print(\"Sorted numbers list from highest to lowest:\", descending_numbers)"
   ]
  },
  {
   "cell_type": "markdown",
   "id": "6c7b0e15-9829-43bc-9c0b-3fc04ff1f88e",
   "metadata": {},
   "source": [
    "# Question 13:Get first, second best scores from the list. List may contain duplicates."
   ]
  },
  {
   "cell_type": "code",
   "execution_count": 105,
   "id": "8874e3c0-218a-4f8f-9ffe-04fb3580aefd",
   "metadata": {},
   "outputs": [],
   "source": [
    "def getFirstSecondBestScores(scores):\n",
    "   unique_scores = list(set(scores))\n",
    "   unique_scores.sort(reverse=True)\n",
    "   return unique_scores[:2]"
   ]
  },
  {
   "cell_type": "markdown",
   "id": "53b490b5-0c3e-419a-bffb-413f64d666aa",
   "metadata": {},
   "source": [
    "# Question 14:print the number in words (Tuples)."
   ]
  },
  {
   "cell_type": "code",
   "execution_count": 122,
   "id": "84383309-3d61-4bc4-a526-bcfa10df381a",
   "metadata": {},
   "outputs": [
    {
     "name": "stdout",
     "output_type": "stream",
     "text": [
      "One Two Three Four "
     ]
    }
   ],
   "source": [
    "def printWord(N):\n",
    "    digits = {'1':'One','2':'Two','3':'Three','4':'Four'}\n",
    "    for number in N:\n",
    "        print(digits[number] , end = ' ')\n",
    "       \n",
    "# Driver code\n",
    "N = \"1234\"\n",
    "printWord(N)"
   ]
  },
  {
   "cell_type": "markdown",
   "id": "8a3b37f3-7665-45b5-9d91-f4fda9a62363",
   "metadata": {},
   "source": [
    "# Question 15:Given a Python list you should be able to display Python list in the following order \n",
    "# aLsit = [100, 200, 300, 400, 500]"
   ]
  },
  {
   "cell_type": "code",
   "execution_count": 110,
   "id": "6ec3e56c-5e92-4bed-8e09-9b427fd8433f",
   "metadata": {},
   "outputs": [
    {
     "name": "stdout",
     "output_type": "stream",
     "text": [
      "[500, 400, 300, 200, 100]\n"
     ]
    }
   ],
   "source": [
    "aList = [100, 200, 300, 400, 500]\n",
    "reversed_list = aList[::-1]\n",
    "print(reversed_list)"
   ]
  },
  {
   "cell_type": "markdown",
   "id": "424c507d-7f50-45bd-8916-e0fa68442910",
   "metadata": {},
   "source": [
    "# Question 16:Concatenate two lists index-wise \n",
    "# list1 = [\"M\", \"na\", \"i\", \"Ke\"] \n",
    "# list2 = [\"y\", \"me\", \"s\", \"lly\"]"
   ]
  },
  {
   "cell_type": "code",
   "execution_count": 111,
   "id": "0e89bd03-4273-44e4-89cb-35266be21b1d",
   "metadata": {},
   "outputs": [
    {
     "name": "stdout",
     "output_type": "stream",
     "text": [
      "['My', 'name', 'is', 'Kelly']\n"
     ]
    }
   ],
   "source": [
    "list1 = [\"M\", \"na\", \"i\", \"Ke\"]\n",
    "list2 = [\"y\", \"me\", \"s\", \"lly\"]\n",
    "\n",
    "concatenated_list = [x + y for x, y in zip(list1, list2)]\n",
    "print(concatenated_list)"
   ]
  },
  {
   "cell_type": "markdown",
   "id": "f26f447a-4567-4021-85b4-3ec9fc4cde62",
   "metadata": {},
   "source": [
    "# Question 17:Concatenate two lists in the following order. \n",
    "# list1 = [\"Hello \", \"take \"]\n",
    "# list2 = [\"Dear\", \"Sir\"]"
   ]
  },
  {
   "cell_type": "code",
   "execution_count": 112,
   "id": "0e840b0c-ad8c-49e2-861e-f06df4b0b8fe",
   "metadata": {},
   "outputs": [
    {
     "name": "stdout",
     "output_type": "stream",
     "text": [
      "['Hello Dear', 'Hello Sir', 'take Dear', 'take Sir']\n"
     ]
    }
   ],
   "source": [
    "list1 = [\"Hello \", \"take \"]\n",
    "list2 = [\"Dear\", \"Sir\"]\n",
    "\n",
    "concatenated_list = [x + y for x in list1 for y in list2]\n",
    "print(concatenated_list)"
   ]
  },
  {
   "cell_type": "markdown",
   "id": "1200d485-e2b8-4c8f-8690-c2d017609064",
   "metadata": {},
   "source": [
    "# Question 18:Given a two Python list. Iterate both lists simultaneously such that list1 should display item in original order and list2 in reverse order. \n",
    "# list1 = [10, 20, 30, 40] \n",
    "# list2 = [100, 200, 300, 400]."
   ]
  },
  {
   "cell_type": "code",
   "execution_count": 113,
   "id": "9d5eb024-71c1-4de0-b945-ad630291bb3a",
   "metadata": {},
   "outputs": [
    {
     "name": "stdout",
     "output_type": "stream",
     "text": [
      "10 400 20 300 30 200 40 100 "
     ]
    }
   ],
   "source": [
    "list1 = [10, 20, 30, 40]\n",
    "list2 = [100, 200, 300, 400]\n",
    "\n",
    "for item1, item2 in zip(list1, reversed(list2)):\n",
    "   print(item1, item2, end=' ')"
   ]
  },
  {
   "cell_type": "markdown",
   "id": "33e034f8-eef5-4384-bb99-16cd2bf25bc1",
   "metadata": {},
   "source": [
    "# Question 19:Remove empty strings from the list of strings. \n",
    "# list1 = [\"Mike\", \"\", \"Emma\", \"Kelly\", \"\", \"Brad\"]."
   ]
  },
  {
   "cell_type": "code",
   "execution_count": 114,
   "id": "a6429acb-dd76-462a-b839-fc5a56608620",
   "metadata": {},
   "outputs": [
    {
     "name": "stdout",
     "output_type": "stream",
     "text": [
      "['Mike', 'Emma', 'Kelly', 'Brad']\n"
     ]
    }
   ],
   "source": [
    "list1 = [\"Mike\", \"\", \"Emma\", \"Kelly\", \"\", \"Brad\"]\n",
    "filtered_list = [item for item in list1 if item != \"\"]\n",
    "print(filtered_list)"
   ]
  },
  {
   "cell_type": "markdown",
   "id": "15167dca-918c-4466-88ab-4b56d545cb12",
   "metadata": {},
   "source": [
    "# Question 20:Add item 7000 after 6000 in the following Python List \n",
    "# list1 = [10, 20, [300, 400, [5000, 6000], 500], 30, 40]."
   ]
  },
  {
   "cell_type": "code",
   "execution_count": 115,
   "id": "5445ca4b-88e2-4788-8e66-f7771ebd0636",
   "metadata": {},
   "outputs": [
    {
     "name": "stdout",
     "output_type": "stream",
     "text": [
      "[10, 20, [300, 400, [5000, 6000, 7000], 500], 30, 40]\n"
     ]
    }
   ],
   "source": [
    "list1 = [10, 20, [300, 400, [5000, 6000], 500], 30, 40]\n",
    "list1[2][2].append(7000)\n",
    "print(list1)"
   ]
  },
  {
   "cell_type": "markdown",
   "id": "288b9100-71ed-40a9-8d3f-4e381bc1a996",
   "metadata": {},
   "source": [
    "# Question 21:Given a nested list extend it with adding sub list [\"h\", \"i\", \"j\"] in a such a way that it will look like the following list \n",
    "# Given List: list1 = [\"a\", \"b\", [\"c\", [\"d\", \"e\", [\"f\", \"g\"], \"k\"], \"l\"], \"m\", \"n\"] \n",
    "# Sub List to be added = [\"h\", \"i\", \"j\"]"
   ]
  },
  {
   "cell_type": "code",
   "execution_count": 116,
   "id": "5de672b6-ba90-44e1-ac81-254125b649d6",
   "metadata": {},
   "outputs": [
    {
     "name": "stdout",
     "output_type": "stream",
     "text": [
      "['a', 'b', ['c', ['d', 'e', ['f', 'g', 'h', 'i', 'j'], 'k'], 'l'], 'm', 'n']\n"
     ]
    }
   ],
   "source": [
    "list1 = [\"a\", \"b\", [\"c\", [\"d\", \"e\", [\"f\", \"g\"], \"k\"], \"l\"], \"m\", \"n\"]\n",
    "sub_list = [\"h\", \"i\", \"j\"]\n",
    "list1[2][1][2].extend(sub_list)\n",
    "print(list1)"
   ]
  },
  {
   "cell_type": "markdown",
   "id": "e523219f-dbfa-40b4-9739-e9ce05024c15",
   "metadata": {},
   "source": [
    "# Question 22: Given a Python list, find value 20 in the list, and if it is present, replace it with 200. Only update the first occurrence of a value \n",
    "# list1 = [5, 10, 15, 20, 25, 50, 20]."
   ]
  },
  {
   "cell_type": "code",
   "execution_count": 117,
   "id": "507ca8dc-1bf9-4268-8b59-75045ac307c4",
   "metadata": {},
   "outputs": [
    {
     "name": "stdout",
     "output_type": "stream",
     "text": [
      "[5, 10, 15, 200, 25, 50, 20]\n"
     ]
    }
   ],
   "source": [
    "list1 = [5, 10, 15, 20, 25, 50, 20]\n",
    "\n",
    "index = list1.index(20)\n",
    "\n",
    "list1[index] = 200\n",
    "\n",
    "print(list1)"
   ]
  },
  {
   "cell_type": "markdown",
   "id": "87b9b05d-980f-4a2e-a1a8-bd59db9f28f0",
   "metadata": {},
   "source": [
    "# Question 23: Given a Python list, remove all occurrence of 20 from the list \n",
    "# list1 = [5, 20, 15, 20, 25, 50, 20]."
   ]
  },
  {
   "cell_type": "code",
   "execution_count": 118,
   "id": "5094caf0-1b10-438e-9cd0-aeda4e01c348",
   "metadata": {},
   "outputs": [
    {
     "name": "stdout",
     "output_type": "stream",
     "text": [
      "[5, 15, 25, 50]\n"
     ]
    }
   ],
   "source": [
    "list1 = [5, 20, 15, 20, 25, 50, 20]\n",
    "\n",
    "filtered_list = [item for item in list1 if item != 20]\n",
    "\n",
    "print(filtered_list)"
   ]
  },
  {
   "cell_type": "markdown",
   "id": "aa6bc55c-d2da-4182-89f7-8c183b90cfb9",
   "metadata": {},
   "source": [
    "# Question 24:Sort a tuple of tuples by 2nd item. \n",
    "# tuple1 = (('a', 23),('b', 37),('c', 11), ('d',29))."
   ]
  },
  {
   "cell_type": "code",
   "execution_count": 119,
   "id": "c4da6825-1663-41e5-9370-820e1ba8328e",
   "metadata": {},
   "outputs": [
    {
     "name": "stdout",
     "output_type": "stream",
     "text": [
      "(('c', 11), ('a', 23), ('d', 29), ('b', 37))\n"
     ]
    }
   ],
   "source": [
    "tuple1 = (('a', 23), ('b', 37), ('c', 11), ('d', 29))\n",
    "\n",
    "sorted_tuple = tuple(sorted(tuple1, key=lambda x: x[1]))\n",
    "\n",
    "print(sorted_tuple)"
   ]
  },
  {
   "cell_type": "markdown",
   "id": "b816a662-e7b0-48a4-863f-14567b146d22",
   "metadata": {},
   "source": [
    "# Question 25:Counts the number of occurrences of item 50 from a tuple. \n",
    "# tuple1 = (50, 10, 60, 70, 50)."
   ]
  },
  {
   "cell_type": "code",
   "execution_count": 120,
   "id": "3cf9bbfa-54de-4449-8ea9-46653f4d347e",
   "metadata": {},
   "outputs": [
    {
     "name": "stdout",
     "output_type": "stream",
     "text": [
      "2\n"
     ]
    }
   ],
   "source": [
    "tuple1 = (50, 10, 60, 70, 50)\n",
    "\n",
    "count_50 = tuple1.count(50)\n",
    "\n",
    "print(count_50)"
   ]
  },
  {
   "cell_type": "code",
   "execution_count": null,
   "id": "16dc2fc0-8f0e-4020-978b-e510d5f9ec86",
   "metadata": {},
   "outputs": [],
   "source": [
    "# Question 26:Check if all items in the following tuple are the same. \n",
    "# tuple1 = (45, 45, 45, 45)"
   ]
  },
  {
   "cell_type": "code",
   "execution_count": 94,
   "id": "2a97496f-db65-4d64-b43f-c33a49963fa1",
   "metadata": {},
   "outputs": [
    {
     "name": "stdout",
     "output_type": "stream",
     "text": [
      "True\n"
     ]
    }
   ],
   "source": [
    "tuple1 = (45, 45, 45, 45)\n",
    "\n",
    "are_same = all(item == tuple1[0] for item in tuple1)\n",
    "\n",
    "print(are_same)\n"
   ]
  },
  {
   "cell_type": "code",
   "execution_count": null,
   "id": "b97fc818-e066-4e3b-aed8-7e21a8ed371a",
   "metadata": {},
   "outputs": [],
   "source": []
  }
 ],
 "metadata": {
  "kernelspec": {
   "display_name": "Python 3 (ipykernel)",
   "language": "python",
   "name": "python3"
  },
  "language_info": {
   "codemirror_mode": {
    "name": "ipython",
    "version": 3
   },
   "file_extension": ".py",
   "mimetype": "text/x-python",
   "name": "python",
   "nbconvert_exporter": "python",
   "pygments_lexer": "ipython3",
   "version": "3.11.7"
  }
 },
 "nbformat": 4,
 "nbformat_minor": 5
}
